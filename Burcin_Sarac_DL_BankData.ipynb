{
  "nbformat": 4,
  "nbformat_minor": 0,
  "metadata": {
    "colab": {
      "name": "Untitled4.ipynb",
      "version": "0.3.2",
      "provenance": [],
      "collapsed_sections": []
    },
    "kernelspec": {
      "name": "python3",
      "display_name": "Python 3"
    }
  },
  "cells": [
    {
      "cell_type": "markdown",
      "metadata": {
        "id": "3lwi0MOHpk4i",
        "colab_type": "text"
      },
      "source": [
        "# Bank Marketing\n",
        "\n",
        "In this project my goal was to implement a simple workflow that will assess the similarity between bank customers and suggest for any input customer a list of his/her 10 most similar other customers by printing their CustomerID numbers, in other words index numbers in dataset.\n",
        "\n",
        "After that, I implemented a Deep Learning algorithm to predict if a customer has subscribed a term deposit? (binary: 'yes','no') \n",
        "\n",
        "The dataset I used is publicly available and can be found in this UCI Machine Learning Repository webpage; [Bank Marketing Dataset](https://archive.ics.uci.edu/ml/datasets/bank+marketing).  I used \"bank-additional-full.csv\" dataset for this project. However, I used Google Colaboratory platform instead of my own CPU. \n",
        "\n",
        "This dataset was created by Paulo Cortez (Univ. Minho) and Sérgio Moro (ISCTE-IUL) at 2012 and subjected to paper published as\n",
        "__\" S. Moro, R. Laureano and P. Cortez. Using Data Mining for Bank Direct Marketing: An Application of the CRISP-DM Methodology.\"__ The paper also can be found in this [link](http://repositorium.sdum.uminho.pt/handle/1822/14838).\n",
        "\n",
        "---\n",
        "\n",
        "> Burcin Sarac <br />"
      ]
    },
    {
      "cell_type": "markdown",
      "metadata": {
        "id": "u_9mt-kIpk1z",
        "colab_type": "text"
      },
      "source": [
        "Input variables:\n",
        "# bank client data:\n",
        "1 - age (numeric)\n",
        "\n",
        "2 - job : type of job (categorical: 'admin.','blue-collar','entrepreneur',' housemaid', 'management', 'retired', 'self-employed','services','student','technician','unemployed','unknown')\n",
        "\n",
        "3 - marital : marital status (categorical: 'divorced','married','single','unknown'; note: 'divorced' means divorced or widowed)\n",
        "\n",
        "4 - education (categorical: 'basic.4y','basic.6y','basic.9y','high.school','illiterate' ,'professional.course', 'university.degree','unknown')\n",
        "\n",
        "5 - default: has credit in default? (categorical: 'no','yes','unknown')\n",
        "\n",
        "6 - housing: has housing loan? (categorical: 'no','yes','unknown')\n",
        "\n",
        "7 - loan: has personal loan? (categorical: 'no','yes','unknown')\n",
        "## related with the last contact of the current campaign:\n",
        "8 - contact: contact communication type (categorical: 'cellular','telephone')\n",
        "\n",
        "9 - month: last contact month of year (categorical: 'jan', 'feb', 'mar', ..., 'nov', 'dec')\n",
        "\n",
        "10 - day_of_week: last contact day of the week (categorical: 'mon','tue','wed','thu','fri')\n",
        "\n",
        "11 - duration: last contact duration, in seconds (numeric). Important note: this attribute highly affects the output target (e.g., if duration=0 then y='no'). Yet, the duration is not known before a call is performed. Also, after the end of the call y is obviously known. Thus, this input should only be included for benchmark purposes and should be discarded if the intention is to have a realistic predictive model.\n",
        "## other attributes:\n",
        "12 - campaign: number of contacts performed during this campaign and for this client (numeric, includes last contact)\n",
        "\n",
        "13 - pdays: number of days that passed by after the client was last contacted from a previous campaign (numeric; 999 means client was not previously contacted)\n",
        "\n",
        "14 - previous: number of contacts performed before this campaign and for this client (numeric)\n",
        "\n",
        "15 - poutcome: outcome of the previous marketing campaign (categorical: 'failure','nonexistent' ,'success')\n",
        "## social and economic context attributes\n",
        "16 - emp.var.rate: employment variation rate - quarterly indicator (numeric)\n",
        "\n",
        "17 - cons.price.idx: consumer price index - monthly indicator (numeric)\n",
        "\n",
        "18 - cons.conf.idx: consumer confidence index - monthly indicator (numeric)\n",
        "\n",
        "19 - euribor3m: euribor 3 month rate - daily indicator (numeric)\n",
        "\n",
        "20 - nr.employed: number of employees - quarterly indicator (numeric)\n",
        "\n",
        "### Output variable (desired target):\n",
        "\n",
        "21 - y - has the client subscribed a term deposit? (binary: 'yes','no')"
      ]
    },
    {
      "cell_type": "markdown",
      "metadata": {
        "id": "_S2mA59EsZsL",
        "colab_type": "text"
      },
      "source": [
        "## Data preperation"
      ]
    },
    {
      "cell_type": "code",
      "metadata": {
        "id": "KkrRcQFquCPN",
        "colab_type": "code",
        "colab": {}
      },
      "source": [
        "import numpy as np\n",
        "import pandas as pd\n",
        "\n",
        "from pandas.api.types import is_numeric_dtype\n",
        "from pandas.api.types import is_string_dtype\n",
        "\n",
        "import seaborn as sns\n",
        "import matplotlib.pyplot as plt\n",
        "\n",
        "from scipy.spatial import distance_matrix\n",
        "import heapq\n",
        "\n"
      ],
      "execution_count": 0,
      "outputs": []
    },
    {
      "cell_type": "code",
      "metadata": {
        "id": "T14KfoVIvg6u",
        "colab_type": "code",
        "outputId": "5020531d-3679-45a8-ca8a-c441c2a110a2",
        "colab": {
          "resources": {
            "http://localhost:8080/nbextensions/google.colab/files.js": {
              "data": "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",
              "ok": true,
              "headers": [
                [
                  "content-type",
                  "application/javascript"
                ]
              ],
              "status": 200,
              "status_text": ""
            }
          },
          "base_uri": "https://localhost:8080/",
          "height": 74
        }
      },
      "source": [
        "from google.colab import files\n",
        "uploaded = files.upload()"
      ],
      "execution_count": 2,
      "outputs": [
        {
          "output_type": "display_data",
          "data": {
            "text/html": [
              "\n",
              "     <input type=\"file\" id=\"files-c5d4a44d-730f-4258-a14c-7e47315f78e1\" name=\"files[]\" multiple disabled />\n",
              "     <output id=\"result-c5d4a44d-730f-4258-a14c-7e47315f78e1\">\n",
              "      Upload widget is only available when the cell has been executed in the\n",
              "      current browser session. Please rerun this cell to enable.\n",
              "      </output>\n",
              "      <script src=\"/nbextensions/google.colab/files.js\"></script> "
            ],
            "text/plain": [
              "<IPython.core.display.HTML object>"
            ]
          },
          "metadata": {
            "tags": []
          }
        },
        {
          "output_type": "stream",
          "text": [
            "Saving bank-additional-full.csv to bank-additional-full (1).csv\n"
          ],
          "name": "stdout"
        }
      ]
    },
    {
      "cell_type": "code",
      "metadata": {
        "id": "wr82Wir1vrIS",
        "colab_type": "code",
        "colab": {}
      },
      "source": [
        "import io\n",
        "data = pd.read_csv(io.BytesIO(uploaded['bank-additional-full.csv']), sep=\";\")"
      ],
      "execution_count": 0,
      "outputs": []
    },
    {
      "cell_type": "code",
      "metadata": {
        "id": "_9URRroywdj2",
        "colab_type": "code",
        "outputId": "5ec93cc3-4c88-4ac8-dd5d-57e519061930",
        "colab": {
          "base_uri": "https://localhost:8080/",
          "height": 478
        }
      },
      "source": [
        "data.info()"
      ],
      "execution_count": 84,
      "outputs": [
        {
          "output_type": "stream",
          "text": [
            "<class 'pandas.core.frame.DataFrame'>\n",
            "RangeIndex: 41188 entries, 0 to 41187\n",
            "Data columns (total 21 columns):\n",
            "age               41188 non-null int64\n",
            "job               41188 non-null object\n",
            "marital           41188 non-null object\n",
            "education         41188 non-null object\n",
            "default           41188 non-null object\n",
            "housing           41188 non-null object\n",
            "loan              41188 non-null object\n",
            "contact           41188 non-null object\n",
            "month             41188 non-null object\n",
            "day_of_week       41188 non-null object\n",
            "duration          41188 non-null int64\n",
            "campaign          41188 non-null int64\n",
            "pdays             41188 non-null int64\n",
            "previous          41188 non-null int64\n",
            "poutcome          41188 non-null object\n",
            "emp.var.rate      41188 non-null float64\n",
            "cons.price.idx    41188 non-null float64\n",
            "cons.conf.idx     41188 non-null float64\n",
            "euribor3m         41188 non-null float64\n",
            "nr.employed       41188 non-null float64\n",
            "y                 41188 non-null object\n",
            "dtypes: float64(5), int64(5), object(11)\n",
            "memory usage: 6.6+ MB\n"
          ],
          "name": "stdout"
        }
      ]
    },
    {
      "cell_type": "code",
      "metadata": {
        "id": "e15ZCKlSwffw",
        "colab_type": "code",
        "outputId": "465b00fe-9777-4aeb-9bbf-41792467d914",
        "colab": {
          "base_uri": "https://localhost:8080/",
          "height": 407
        }
      },
      "source": [
        "data.isnull().sum()"
      ],
      "execution_count": 5,
      "outputs": [
        {
          "output_type": "execute_result",
          "data": {
            "text/plain": [
              "age               0\n",
              "job               0\n",
              "marital           0\n",
              "education         0\n",
              "default           0\n",
              "housing           0\n",
              "loan              0\n",
              "contact           0\n",
              "month             0\n",
              "day_of_week       0\n",
              "duration          0\n",
              "campaign          0\n",
              "pdays             0\n",
              "previous          0\n",
              "poutcome          0\n",
              "emp.var.rate      0\n",
              "cons.price.idx    0\n",
              "cons.conf.idx     0\n",
              "euribor3m         0\n",
              "nr.employed       0\n",
              "y                 0\n",
              "dtype: int64"
            ]
          },
          "metadata": {
            "tags": []
          },
          "execution_count": 5
        }
      ]
    },
    {
      "cell_type": "code",
      "metadata": {
        "id": "nuEcEkv4wptN",
        "colab_type": "code",
        "outputId": "6603fc6d-8127-4200-9833-40cbf8cab162",
        "colab": {
          "base_uri": "https://localhost:8080/",
          "height": 265
        }
      },
      "source": [
        "for column in data:\n",
        "    if is_string_dtype(data[column])==True:\n",
        "        print(data[column].name ,\"column unique values : \", data[column].unique())"
      ],
      "execution_count": 6,
      "outputs": [
        {
          "output_type": "stream",
          "text": [
            "job column unique values :  ['housemaid' 'services' 'admin.' 'blue-collar' 'technician' 'retired'\n",
            " 'management' 'unemployed' 'self-employed' 'unknown' 'entrepreneur'\n",
            " 'student']\n",
            "marital column unique values :  ['married' 'single' 'divorced' 'unknown']\n",
            "education column unique values :  ['basic.4y' 'high.school' 'basic.6y' 'basic.9y' 'professional.course'\n",
            " 'unknown' 'university.degree' 'illiterate']\n",
            "default column unique values :  ['no' 'unknown' 'yes']\n",
            "housing column unique values :  ['no' 'yes' 'unknown']\n",
            "loan column unique values :  ['no' 'yes' 'unknown']\n",
            "contact column unique values :  ['telephone' 'cellular']\n",
            "month column unique values :  ['may' 'jun' 'jul' 'aug' 'oct' 'nov' 'dec' 'mar' 'apr' 'sep']\n",
            "day_of_week column unique values :  ['mon' 'tue' 'wed' 'thu' 'fri']\n",
            "poutcome column unique values :  ['nonexistent' 'failure' 'success']\n",
            "y column unique values :  ['no' 'yes']\n"
          ],
          "name": "stdout"
        }
      ]
    },
    {
      "cell_type": "code",
      "metadata": {
        "id": "bmLteizhws1v",
        "colab_type": "code",
        "colab": {}
      },
      "source": [
        "    data.y = data.y.apply(lambda x: 0 if x == 'no' else 1)"
      ],
      "execution_count": 0,
      "outputs": []
    },
    {
      "cell_type": "code",
      "metadata": {
        "id": "lOVOIgcLxZk2",
        "colab_type": "code",
        "outputId": "bdf08104-ed10-4c89-d9f0-b64166bd5c8e",
        "colab": {
          "base_uri": "https://localhost:8080/",
          "height": 445
        }
      },
      "source": [
        "for col in data.columns:\n",
        "  print(\"unknown data amount in\",col, \":\", data[col][data[col]==\"unknown\"].count())"
      ],
      "execution_count": 8,
      "outputs": [
        {
          "output_type": "stream",
          "text": [
            "unknown data amount in age : 0\n",
            "unknown data amount in job : 330\n",
            "unknown data amount in marital : 80\n",
            "unknown data amount in education : 1731\n",
            "unknown data amount in default : 8597\n",
            "unknown data amount in housing : 990\n",
            "unknown data amount in loan : 990\n",
            "unknown data amount in contact : 0\n",
            "unknown data amount in month : 0\n",
            "unknown data amount in day_of_week : 0\n",
            "unknown data amount in duration : 0\n",
            "unknown data amount in campaign : 0\n",
            "unknown data amount in pdays : 0\n",
            "unknown data amount in previous : 0\n",
            "unknown data amount in poutcome : 0\n",
            "unknown data amount in emp.var.rate : 0\n",
            "unknown data amount in cons.price.idx : 0\n",
            "unknown data amount in cons.conf.idx : 0\n",
            "unknown data amount in euribor3m : 0\n",
            "unknown data amount in nr.employed : 0\n",
            "unknown data amount in y : 0\n"
          ],
          "name": "stdout"
        },
        {
          "output_type": "stream",
          "text": [
            "/usr/local/lib/python3.6/dist-packages/pandas/core/ops.py:1649: FutureWarning: elementwise comparison failed; returning scalar instead, but in the future will perform elementwise comparison\n",
            "  result = method(y)\n"
          ],
          "name": "stderr"
        }
      ]
    },
    {
      "cell_type": "code",
      "metadata": {
        "id": "Sf8wJZsBTedy",
        "colab_type": "code",
        "outputId": "eaf22572-3a39-48f1-d796-a73d9f70130c",
        "colab": {
          "base_uri": "https://localhost:8080/",
          "height": 3077
        }
      },
      "source": [
        "for column in data:\n",
        "    if is_string_dtype(data[column])==True:\n",
        "      sns.countplot(column, data=data)\n",
        "      plt.xlabel(column)\n",
        "      plt.xticks(rotation=90)\n",
        "      plt.ylabel(\"Total Customer Number\")\n",
        "      plt.show()"
      ],
      "execution_count": 9,
      "outputs": [
        {
          "output_type": "display_data",
          "data": {
            "image/png": "[encoded data removed]",
            "text/plain": [
              "<Figure size 432x288 with 1 Axes>"
            ]
          },
          "metadata": {
            "tags": []
          }
        },
        {
          "output_type": "display_data",
          "data": {
            "image/png": "[encoded data removed]",
            "text/plain": [
              "<Figure size 432x288 with 1 Axes>"
            ]
          },
          "metadata": {
            "tags": []
          }
        },
        {
          "output_type": "display_data",
          "data": {
            "image/png": "[encoded data removed]",
            "text/plain": [
              "<Figure size 432x288 with 1 Axes>"
            ]
          },
          "metadata": {
            "tags": []
          }
        },
        {
          "output_type": "display_data",
          "data": {
            "image/png": "[encoded data removed]",
            "text/plain": [
              "<Figure size 432x288 with 1 Axes>"
            ]
          },
          "metadata": {
            "tags": []
          }
        },
        {
          "output_type": "display_data",
          "data": {
            "image/png": "[encoded data removed]",
            "text/plain": [
              "<Figure size 432x288 with 1 Axes>"
            ]
          },
          "metadata": {
            "tags": []
          }
        },
        {
          "output_type": "display_data",
          "data": {
            "image/png": "[encoded data removed]",
            "text/plain": [
              "<Figure size 432x288 with 1 Axes>"
            ]
          },
          "metadata": {
            "tags": []
          }
        },
        {
          "output_type": "display_data",
          "data": {
            "image/png": "[encoded data removed]",
            "text/plain": [
              "<Figure size 432x288 with 1 Axes>"
            ]
          },
          "metadata": {
            "tags": []
          }
        },
        {
          "output_type": "display_data",
          "data": {
            "image/png": "[encoded data removed]",
            "text/plain": [
              "<Figure size 432x288 with 1 Axes>"
            ]
          },
          "metadata": {
            "tags": []
          }
        },
        {
          "output_type": "display_data",
          "data": {
            "image/png": "[encoded data removed]",
            "text/plain": [
              "<Figure size 432x288 with 1 Axes>"
            ]
          },
          "metadata": {
            "tags": []
          }
        },
        {
          "output_type": "display_data",
          "data": {
            "image/png": "[encoded data removed]",
            "text/plain": [
              "<Figure size 432x288 with 1 Axes>"
            ]
          },
          "metadata": {
            "tags": []
          }
        }
      ]
    },
    {
      "cell_type": "code",
      "metadata": {
        "id": "Pvs3AlEvTebR",
        "colab_type": "code",
        "outputId": "f6963a0d-dbd8-4af0-f479-6234ab79c5b6",
        "colab": {
          "base_uri": "https://localhost:8080/",
          "height": 282
        }
      },
      "source": [
        "sns.distplot(data.age)\n",
        "plt.ylabel(\"Frequency\")\n",
        "plt.show()"
      ],
      "execution_count": 41,
      "outputs": [
        {
          "output_type": "display_data",
          "data": {
            "image/png": "[encoded data removed]",
            "text/plain": [
              "<Figure size 432x288 with 1 Axes>"
            ]
          },
          "metadata": {
            "tags": []
          }
        }
      ]
    },
    {
      "cell_type": "markdown",
      "metadata": {
        "id": "MCTbnzapeOpf",
        "colab_type": "text"
      },
      "source": [
        "At this stage, I did not plan to drop or deal with any infuencer points (outliers) or unknown data. Because since it is a Bank dataset, it may put on purpose to see if that informations missing, what will be the effect on target variable. So I jump to finding similarity between customers part. "
      ]
    },
    {
      "cell_type": "markdown",
      "metadata": {
        "id": "448rLopaNhSA",
        "colab_type": "text"
      },
      "source": [
        "\n",
        "## Finding Similarity between customers\n"
      ]
    },
    {
      "cell_type": "markdown",
      "metadata": {
        "id": "8xTiJnQ--CRI",
        "colab_type": "text"
      },
      "source": [
        "Since I planned to find similar customers I only used customer data among columns, which are age, job, marital, education, default, housing, loan attributes of dataset. "
      ]
    },
    {
      "cell_type": "code",
      "metadata": {
        "id": "biKSZMIK9yIM",
        "colab_type": "code",
        "colab": {}
      },
      "source": [
        "dataforsim = data.iloc[:,0:7]"
      ],
      "execution_count": 0,
      "outputs": []
    },
    {
      "cell_type": "code",
      "metadata": {
        "id": "LAxnjVYv_y6M",
        "colab_type": "code",
        "outputId": "a849850f-ffb8-4b02-88d5-7d8b380affc1",
        "colab": {
          "base_uri": "https://localhost:8080/",
          "height": 230
        }
      },
      "source": [
        "dataforsim.info()"
      ],
      "execution_count": 86,
      "outputs": [
        {
          "output_type": "stream",
          "text": [
            "<class 'pandas.core.frame.DataFrame'>\n",
            "RangeIndex: 41188 entries, 0 to 41187\n",
            "Data columns (total 7 columns):\n",
            "age          41188 non-null int64\n",
            "job          41188 non-null object\n",
            "marital      41188 non-null object\n",
            "education    41188 non-null object\n",
            "default      41188 non-null object\n",
            "housing      41188 non-null object\n",
            "loan         41188 non-null object\n",
            "dtypes: int64(1), object(6)\n",
            "memory usage: 2.2+ MB\n"
          ],
          "name": "stdout"
        }
      ]
    },
    {
      "cell_type": "code",
      "metadata": {
        "id": "JUAKzlWLPEpV",
        "colab_type": "code",
        "colab": {}
      },
      "source": [
        "for column in dataforsim:\n",
        "    if is_string_dtype(dataforsim[column])==True:\n",
        "        one_hot = pd.get_dummies(dataforsim[column], prefix= column)\n",
        "        dataforsim = dataforsim.drop(column,axis = 1)\n",
        "        dataforsim = dataforsim.join(one_hot)"
      ],
      "execution_count": 0,
      "outputs": []
    },
    {
      "cell_type": "code",
      "metadata": {
        "id": "hYL4NkgAO3sa",
        "colab_type": "code",
        "outputId": "10b00532-7040-4e3a-d5c1-649193e32b89",
        "colab": {
          "base_uri": "https://localhost:8080/",
          "height": 621
        }
      },
      "source": [
        "for column in dataforsim:\n",
        "    if is_numeric_dtype(dataforsim[column])==True:\n",
        "        print(dataforsim[column].name ,\"column max and min values : \", dataforsim[column].max(), \"and\", dataforsim[column].min())"
      ],
      "execution_count": 88,
      "outputs": [
        {
          "output_type": "stream",
          "text": [
            "age column max and min values :  98 and 17\n",
            "job_admin. column max and min values :  1 and 0\n",
            "job_blue-collar column max and min values :  1 and 0\n",
            "job_entrepreneur column max and min values :  1 and 0\n",
            "job_housemaid column max and min values :  1 and 0\n",
            "job_management column max and min values :  1 and 0\n",
            "job_retired column max and min values :  1 and 0\n",
            "job_self-employed column max and min values :  1 and 0\n",
            "job_services column max and min values :  1 and 0\n",
            "job_student column max and min values :  1 and 0\n",
            "job_technician column max and min values :  1 and 0\n",
            "job_unemployed column max and min values :  1 and 0\n",
            "job_unknown column max and min values :  1 and 0\n",
            "marital_divorced column max and min values :  1 and 0\n",
            "marital_married column max and min values :  1 and 0\n",
            "marital_single column max and min values :  1 and 0\n",
            "marital_unknown column max and min values :  1 and 0\n",
            "education_basic.4y column max and min values :  1 and 0\n",
            "education_basic.6y column max and min values :  1 and 0\n",
            "education_basic.9y column max and min values :  1 and 0\n",
            "education_high.school column max and min values :  1 and 0\n",
            "education_illiterate column max and min values :  1 and 0\n",
            "education_professional.course column max and min values :  1 and 0\n",
            "education_university.degree column max and min values :  1 and 0\n",
            "education_unknown column max and min values :  1 and 0\n",
            "default_no column max and min values :  1 and 0\n",
            "default_unknown column max and min values :  1 and 0\n",
            "default_yes column max and min values :  1 and 0\n",
            "housing_no column max and min values :  1 and 0\n",
            "housing_unknown column max and min values :  1 and 0\n",
            "housing_yes column max and min values :  1 and 0\n",
            "loan_no column max and min values :  1 and 0\n",
            "loan_unknown column max and min values :  1 and 0\n",
            "loan_yes column max and min values :  1 and 0\n"
          ],
          "name": "stdout"
        }
      ]
    },
    {
      "cell_type": "code",
      "metadata": {
        "id": "iX-v8SF4O36q",
        "colab_type": "code",
        "colab": {}
      },
      "source": [
        "def normalizecol(x) :\n",
        "    x = round((x-min(x))/(max(x)-min(x)),2)\n",
        "    return(x)"
      ],
      "execution_count": 0,
      "outputs": []
    },
    {
      "cell_type": "code",
      "metadata": {
        "id": "0enlG0y7O349",
        "colab_type": "code",
        "colab": {}
      },
      "source": [
        "dataforsim.age = normalizecol(data.age)"
      ],
      "execution_count": 0,
      "outputs": []
    },
    {
      "cell_type": "markdown",
      "metadata": {
        "id": "o8Z7mCojP03W",
        "colab_type": "text"
      },
      "source": [
        "After all, my data became ready to analyse. So I used ````distance_matrix()```` command from 'scipy.spatial' package. It returns the matrix of all pair-wise distances. It requires parameter x and y, so I determined x as the entire dataframe and y as the input customer_ID. Because it might resulted with memory error if I tried to create a distance matrix one by one for all customers at the same time. \n",
        "\n",
        "And after creating distance matrix only for customer 1230 as an example, then I pushed matrix into an array. And then by using for loop I added their index numbers again into the created array. So after this process, I got an array which includes distance to the customer 1230 and customer_ID numbers correspond to their distance metrics one by one.\n",
        "\n",
        "At last, I used 'heapq' package to sort array and find the smallest 10 neighbors of customer 1230 by using ````heapq.nsmallest()```` command. I wrote 11 inside that command instead of 10, because otherwise one of 10 determined customers will be 1230 as closest distance with value 0."
      ]
    },
    {
      "cell_type": "code",
      "metadata": {
        "id": "wwhMFG92O33Z",
        "colab_type": "code",
        "colab": {}
      },
      "source": [
        "d1230 = distance_matrix(dataforsim,dataforsim[dataforsim.index==1230])"
      ],
      "execution_count": 0,
      "outputs": []
    },
    {
      "cell_type": "code",
      "metadata": {
        "id": "uA9JD8TRO31o",
        "colab_type": "code",
        "colab": {}
      },
      "source": [
        "d1230 = [(v,i) for i,v in enumerate(d1230)]"
      ],
      "execution_count": 0,
      "outputs": []
    },
    {
      "cell_type": "code",
      "metadata": {
        "id": "D_RsdTRnO3z0",
        "colab_type": "code",
        "outputId": "0e836a32-d5cc-44be-c619-db45e1b39c98",
        "colab": {
          "base_uri": "https://localhost:8080/",
          "height": 212
        }
      },
      "source": [
        "heapq.nsmallest(11, (d1230))"
      ],
      "execution_count": 93,
      "outputs": [
        {
          "output_type": "execute_result",
          "data": {
            "text/plain": [
              "[(array([0.]), 1230),\n",
              " (array([0.01]), 5159),\n",
              " (array([0.01]), 7768),\n",
              " (array([0.01]), 30895),\n",
              " (array([0.02]), 4180),\n",
              " (array([0.02]), 22093),\n",
              " (array([0.03]), 9954),\n",
              " (array([0.03]), 10010),\n",
              " (array([0.03]), 16933),\n",
              " (array([0.03]), 6214),\n",
              " (array([0.03]), 6456)]"
            ]
          },
          "metadata": {
            "tags": []
          },
          "execution_count": 93
        }
      ]
    },
    {
      "cell_type": "markdown",
      "metadata": {
        "id": "JTfQJcJiP6oF",
        "colab_type": "text"
      },
      "source": [
        "I also manually compared customer 1230 with randomly selected one of printed customers above by printing both two of them below."
      ]
    },
    {
      "cell_type": "code",
      "metadata": {
        "id": "lyE7PsrOO3wU",
        "colab_type": "code",
        "outputId": "63a64838-f1af-4d2a-9881-2f86e1c9934e",
        "colab": {
          "base_uri": "https://localhost:8080/",
          "height": 114
        }
      },
      "source": [
        "dataforsim[dataforsim.index==1230]"
      ],
      "execution_count": 94,
      "outputs": [
        {
          "output_type": "execute_result",
          "data": {
            "text/html": [
              "<div>\n",
              "<style scoped>\n",
              "    .dataframe tbody tr th:only-of-type {\n",
              "        vertical-align: middle;\n",
              "    }\n",
              "\n",
              "    .dataframe tbody tr th {\n",
              "        vertical-align: top;\n",
              "    }\n",
              "\n",
              "    .dataframe thead th {\n",
              "        text-align: right;\n",
              "    }\n",
              "</style>\n",
              "<table border=\"1\" class=\"dataframe\">\n",
              "  <thead>\n",
              "    <tr style=\"text-align: right;\">\n",
              "      <th></th>\n",
              "      <th>age</th>\n",
              "      <th>job_admin.</th>\n",
              "      <th>job_blue-collar</th>\n",
              "      <th>job_entrepreneur</th>\n",
              "      <th>job_housemaid</th>\n",
              "      <th>job_management</th>\n",
              "      <th>job_retired</th>\n",
              "      <th>job_self-employed</th>\n",
              "      <th>job_services</th>\n",
              "      <th>job_student</th>\n",
              "      <th>job_technician</th>\n",
              "      <th>job_unemployed</th>\n",
              "      <th>job_unknown</th>\n",
              "      <th>marital_divorced</th>\n",
              "      <th>marital_married</th>\n",
              "      <th>marital_single</th>\n",
              "      <th>marital_unknown</th>\n",
              "      <th>education_basic.4y</th>\n",
              "      <th>education_basic.6y</th>\n",
              "      <th>education_basic.9y</th>\n",
              "      <th>education_high.school</th>\n",
              "      <th>education_illiterate</th>\n",
              "      <th>education_professional.course</th>\n",
              "      <th>education_university.degree</th>\n",
              "      <th>education_unknown</th>\n",
              "      <th>default_no</th>\n",
              "      <th>default_unknown</th>\n",
              "      <th>default_yes</th>\n",
              "      <th>housing_no</th>\n",
              "      <th>housing_unknown</th>\n",
              "      <th>housing_yes</th>\n",
              "      <th>loan_no</th>\n",
              "      <th>loan_unknown</th>\n",
              "      <th>loan_yes</th>\n",
              "    </tr>\n",
              "  </thead>\n",
              "  <tbody>\n",
              "    <tr>\n",
              "      <th>1230</th>\n",
              "      <td>0.38</td>\n",
              "      <td>0</td>\n",
              "      <td>1</td>\n",
              "      <td>0</td>\n",
              "      <td>0</td>\n",
              "      <td>0</td>\n",
              "      <td>0</td>\n",
              "      <td>0</td>\n",
              "      <td>0</td>\n",
              "      <td>0</td>\n",
              "      <td>0</td>\n",
              "      <td>0</td>\n",
              "      <td>0</td>\n",
              "      <td>1</td>\n",
              "      <td>0</td>\n",
              "      <td>0</td>\n",
              "      <td>0</td>\n",
              "      <td>1</td>\n",
              "      <td>0</td>\n",
              "      <td>0</td>\n",
              "      <td>0</td>\n",
              "      <td>0</td>\n",
              "      <td>0</td>\n",
              "      <td>0</td>\n",
              "      <td>0</td>\n",
              "      <td>1</td>\n",
              "      <td>0</td>\n",
              "      <td>0</td>\n",
              "      <td>1</td>\n",
              "      <td>0</td>\n",
              "      <td>0</td>\n",
              "      <td>1</td>\n",
              "      <td>0</td>\n",
              "      <td>0</td>\n",
              "    </tr>\n",
              "  </tbody>\n",
              "</table>\n",
              "</div>"
            ],
            "text/plain": [
              "       age  job_admin.  job_blue-collar  ...  loan_no  loan_unknown  loan_yes\n",
              "1230  0.38           0                1  ...        1             0         0\n",
              "\n",
              "[1 rows x 34 columns]"
            ]
          },
          "metadata": {
            "tags": []
          },
          "execution_count": 94
        }
      ]
    },
    {
      "cell_type": "code",
      "metadata": {
        "id": "8oACM-DDQIfM",
        "colab_type": "code",
        "outputId": "05e9fe2b-e6bc-44d2-cd74-a9b93c904555",
        "colab": {
          "base_uri": "https://localhost:8080/",
          "height": 114
        }
      },
      "source": [
        "dataforsim[dataforsim.index==5159]"
      ],
      "execution_count": 95,
      "outputs": [
        {
          "output_type": "execute_result",
          "data": {
            "text/html": [
              "<div>\n",
              "<style scoped>\n",
              "    .dataframe tbody tr th:only-of-type {\n",
              "        vertical-align: middle;\n",
              "    }\n",
              "\n",
              "    .dataframe tbody tr th {\n",
              "        vertical-align: top;\n",
              "    }\n",
              "\n",
              "    .dataframe thead th {\n",
              "        text-align: right;\n",
              "    }\n",
              "</style>\n",
              "<table border=\"1\" class=\"dataframe\">\n",
              "  <thead>\n",
              "    <tr style=\"text-align: right;\">\n",
              "      <th></th>\n",
              "      <th>age</th>\n",
              "      <th>job_admin.</th>\n",
              "      <th>job_blue-collar</th>\n",
              "      <th>job_entrepreneur</th>\n",
              "      <th>job_housemaid</th>\n",
              "      <th>job_management</th>\n",
              "      <th>job_retired</th>\n",
              "      <th>job_self-employed</th>\n",
              "      <th>job_services</th>\n",
              "      <th>job_student</th>\n",
              "      <th>job_technician</th>\n",
              "      <th>job_unemployed</th>\n",
              "      <th>job_unknown</th>\n",
              "      <th>marital_divorced</th>\n",
              "      <th>marital_married</th>\n",
              "      <th>marital_single</th>\n",
              "      <th>marital_unknown</th>\n",
              "      <th>education_basic.4y</th>\n",
              "      <th>education_basic.6y</th>\n",
              "      <th>education_basic.9y</th>\n",
              "      <th>education_high.school</th>\n",
              "      <th>education_illiterate</th>\n",
              "      <th>education_professional.course</th>\n",
              "      <th>education_university.degree</th>\n",
              "      <th>education_unknown</th>\n",
              "      <th>default_no</th>\n",
              "      <th>default_unknown</th>\n",
              "      <th>default_yes</th>\n",
              "      <th>housing_no</th>\n",
              "      <th>housing_unknown</th>\n",
              "      <th>housing_yes</th>\n",
              "      <th>loan_no</th>\n",
              "      <th>loan_unknown</th>\n",
              "      <th>loan_yes</th>\n",
              "    </tr>\n",
              "  </thead>\n",
              "  <tbody>\n",
              "    <tr>\n",
              "      <th>5159</th>\n",
              "      <td>0.37</td>\n",
              "      <td>0</td>\n",
              "      <td>1</td>\n",
              "      <td>0</td>\n",
              "      <td>0</td>\n",
              "      <td>0</td>\n",
              "      <td>0</td>\n",
              "      <td>0</td>\n",
              "      <td>0</td>\n",
              "      <td>0</td>\n",
              "      <td>0</td>\n",
              "      <td>0</td>\n",
              "      <td>0</td>\n",
              "      <td>1</td>\n",
              "      <td>0</td>\n",
              "      <td>0</td>\n",
              "      <td>0</td>\n",
              "      <td>1</td>\n",
              "      <td>0</td>\n",
              "      <td>0</td>\n",
              "      <td>0</td>\n",
              "      <td>0</td>\n",
              "      <td>0</td>\n",
              "      <td>0</td>\n",
              "      <td>0</td>\n",
              "      <td>1</td>\n",
              "      <td>0</td>\n",
              "      <td>0</td>\n",
              "      <td>1</td>\n",
              "      <td>0</td>\n",
              "      <td>0</td>\n",
              "      <td>1</td>\n",
              "      <td>0</td>\n",
              "      <td>0</td>\n",
              "    </tr>\n",
              "  </tbody>\n",
              "</table>\n",
              "</div>"
            ],
            "text/plain": [
              "       age  job_admin.  job_blue-collar  ...  loan_no  loan_unknown  loan_yes\n",
              "5159  0.37           0                1  ...        1             0         0\n",
              "\n",
              "[1 rows x 34 columns]"
            ]
          },
          "metadata": {
            "tags": []
          },
          "execution_count": 95
        }
      ]
    },
    {
      "cell_type": "markdown",
      "metadata": {
        "id": "sU2XjAt5QVLj",
        "colab_type": "text"
      },
      "source": [
        " It seems that my command works clearly, because both customers have totally same attributes. So I can automate this process by defining a function. Wİth the helps of determined commands above, I created a function named ````closest()````, which will allow me to find closest 10 customers by writing only customer id numbers into the function. And then with the helps of a for loop, I printed all randomly selected  1230, 3655, 4988, 12153, 22257, 25884, 32345, 39555  customers' closest 10 neighbors below. "
      ]
    },
    {
      "cell_type": "code",
      "metadata": {
        "id": "oK7r1visQSHF",
        "colab_type": "code",
        "colab": {}
      },
      "source": [
        "def closest(x):\n",
        "    print(\"The most similar 10 customers of customer ID:\", x,\"are listed below with their customer ID numbers;\")\n",
        "    d = distance_matrix(dataforsim,dataforsim[dataforsim.index==x])\n",
        "    d = [(v,j) for j,v in enumerate(d)]\n",
        "    for i in range(0, 11):\n",
        "        if heapq.nsmallest(11, (d))[i][1]!=x:\n",
        "            print(heapq.nsmallest(11, (d))[i][1])"
      ],
      "execution_count": 0,
      "outputs": []
    },
    {
      "cell_type": "code",
      "metadata": {
        "id": "4_P-yfxpQSK0",
        "colab_type": "code",
        "outputId": "bd6a276b-e192-4a1a-e0a4-fb44cb6b302b",
        "colab": {
          "base_uri": "https://localhost:8080/",
          "height": 1598
        }
      },
      "source": [
        "for i in (1230, 3655, 4988, 12153, 22257, 25884, 32345, 39555):\n",
        "    closest(i)"
      ],
      "execution_count": 97,
      "outputs": [
        {
          "output_type": "stream",
          "text": [
            "The most similar 10 customers of customer ID: 1230 are listed below with their customer ID numbers;\n",
            "5159\n",
            "7768\n",
            "30895\n",
            "4180\n",
            "22093\n",
            "9954\n",
            "10010\n",
            "16933\n",
            "6214\n",
            "6456\n",
            "The most similar 10 customers of customer ID: 3655 are listed below with their customer ID numbers;\n",
            "63\n",
            "6000\n",
            "6918\n",
            "9836\n",
            "10776\n",
            "11492\n",
            "12852\n",
            "12853\n",
            "12884\n",
            "13054\n",
            "The most similar 10 customers of customer ID: 4988 are listed below with their customer ID numbers;\n",
            "549\n",
            "1815\n",
            "11462\n",
            "81\n",
            "3198\n",
            "33056\n",
            "6292\n",
            "7096\n",
            "20701\n",
            "11906\n",
            "The most similar 10 customers of customer ID: 12153 are listed below with their customer ID numbers;\n",
            "5928\n",
            "15093\n",
            "16598\n",
            "18156\n",
            "18893\n",
            "20155\n",
            "20391\n",
            "21385\n",
            "23061\n",
            "25316\n",
            "The most similar 10 customers of customer ID: 22257 are listed below with their customer ID numbers;\n",
            "22073\n",
            "2565\n",
            "2587\n",
            "4636\n",
            "4851\n",
            "6049\n",
            "7447\n",
            "11634\n",
            "13255\n",
            "22690\n",
            "The most similar 10 customers of customer ID: 25884 are listed below with their customer ID numbers;\n",
            "24163\n",
            "25502\n",
            "15462\n",
            "2816\n",
            "5191\n",
            "6970\n",
            "7460\n",
            "10628\n",
            "24585\n",
            "24586\n",
            "The most similar 10 customers of customer ID: 32345 are listed below with their customer ID numbers;\n",
            "2469\n",
            "9688\n",
            "10608\n",
            "29391\n",
            "29528\n",
            "29809\n",
            "32141\n",
            "32515\n",
            "7418\n",
            "12242\n",
            "The most similar 10 customers of customer ID: 39555 are listed below with their customer ID numbers;\n",
            "1928\n",
            "2618\n",
            "4976\n",
            "6329\n",
            "9222\n",
            "9409\n",
            "9886\n",
            "10741\n",
            "13306\n",
            "13374\n",
            "13942\n"
          ],
          "name": "stdout"
        }
      ]
    },
    {
      "cell_type": "markdown",
      "metadata": {
        "id": "_jEbP5Q7Rzrr",
        "colab_type": "text"
      },
      "source": [
        "## Prediction"
      ]
    },
    {
      "cell_type": "markdown",
      "metadata": {
        "id": "kXqY9Uh9gFRB",
        "colab_type": "text"
      },
      "source": [
        "This time, I turned back to my whole dataset and convert all categorical variables into dummies. But first, as suggested I dropped \"duration\" column, which can also be observed from the correlation ratios below. \n",
        "\n",
        "\n"
      ]
    },
    {
      "cell_type": "code",
      "metadata": {
        "id": "GkqSJzQ0hHDK",
        "colab_type": "code",
        "colab": {}
      },
      "source": [
        "data.drop([\"duration\"], axis = 1, inplace = True)"
      ],
      "execution_count": 0,
      "outputs": []
    },
    {
      "cell_type": "code",
      "metadata": {
        "id": "_ljWElYyM52F",
        "colab_type": "code",
        "colab": {}
      },
      "source": [
        "for column in data:\n",
        "    if is_string_dtype(data[column])==True:\n",
        "        one_hot = pd.get_dummies(data[column], prefix= column)\n",
        "        data = data.drop(column,axis = 1)\n",
        "        data = data.join(one_hot)"
      ],
      "execution_count": 0,
      "outputs": []
    },
    {
      "cell_type": "markdown",
      "metadata": {
        "id": "t6ZofWSBiIDS",
        "colab_type": "text"
      },
      "source": [
        "I also need to notmalize numeric variables. To achieve this, I again use ````normalizecol()```` function that I created at the finding similarity part above. And I also checked the correlation between created dummy columns and target variable. "
      ]
    },
    {
      "cell_type": "code",
      "metadata": {
        "id": "RGti60YOOcPb",
        "colab_type": "code",
        "outputId": "5edd5f9d-ca16-4cc6-df6a-57f2446c3200",
        "colab": {
          "base_uri": "https://localhost:8080/",
          "height": 158
        }
      },
      "source": [
        "for column in data:\n",
        "    if is_numeric_dtype(data[column])==True and data[column].max()>1:\n",
        "        print(data[column].name ,\"column max and min values : \", data[column].max(), \"and\", data[column].min())"
      ],
      "execution_count": 21,
      "outputs": [
        {
          "output_type": "stream",
          "text": [
            "age column max and min values :  98 and 17\n",
            "campaign column max and min values :  56 and 1\n",
            "pdays column max and min values :  999 and 0\n",
            "previous column max and min values :  7 and 0\n",
            "emp.var.rate column max and min values :  1.4 and -3.4\n",
            "cons.price.idx column max and min values :  94.76700000000001 and 92.20100000000001\n",
            "euribor3m column max and min values :  5.045 and 0.634\n",
            "nr.employed column max and min values :  5228.1 and 4963.6\n"
          ],
          "name": "stdout"
        }
      ]
    },
    {
      "cell_type": "code",
      "metadata": {
        "id": "jZJNwF8LiG2P",
        "colab_type": "code",
        "colab": {}
      },
      "source": [
        "for col in [\"age\",\"campaign\",\"previous\", \"emp.var.rate\",\"cons.price.idx\",\"cons.conf.idx\",\"euribor3m\",\"nr.employed\", \"pdays\"]:\n",
        "  data[col] = normalizecol(data[col])"
      ],
      "execution_count": 0,
      "outputs": []
    },
    {
      "cell_type": "code",
      "metadata": {
        "id": "Q3vF3KQagszy",
        "colab_type": "code",
        "outputId": "4382ce87-e7f3-4f5e-bfd3-3cc774bc27c3",
        "colab": {
          "base_uri": "https://localhost:8080/",
          "height": 265
        }
      },
      "source": [
        "for col in data.drop(['y'],axis=1).columns :\n",
        "    if (abs(data.y.corr(data[col]))>0.1):\n",
        "        print('Correlation btw Term Deposit vs',col, ':', round(data.y.corr(data[col]),2))"
      ],
      "execution_count": 56,
      "outputs": [
        {
          "output_type": "stream",
          "text": [
            "Correlation btw Term Deposit vs pdays : -0.32\n",
            "Correlation btw Term Deposit vs previous : 0.23\n",
            "Correlation btw Term Deposit vs emp.var.rate : -0.3\n",
            "Correlation btw Term Deposit vs cons.price.idx : -0.14\n",
            "Correlation btw Term Deposit vs euribor3m : -0.31\n",
            "Correlation btw Term Deposit vs nr.employed : -0.35\n",
            "Correlation btw Term Deposit vs contact_cellular : 0.14\n",
            "Correlation btw Term Deposit vs contact_telephone : -0.14\n",
            "Correlation btw Term Deposit vs month_mar : 0.14\n",
            "Correlation btw Term Deposit vs month_may : -0.11\n",
            "Correlation btw Term Deposit vs month_oct : 0.14\n",
            "Correlation btw Term Deposit vs month_sep : 0.13\n",
            "Correlation btw Term Deposit vs poutcome_nonexistent : -0.19\n",
            "Correlation btw Term Deposit vs poutcome_success : 0.32\n"
          ],
          "name": "stdout"
        }
      ]
    },
    {
      "cell_type": "markdown",
      "metadata": {
        "id": "yxFpVjw3xnIo",
        "colab_type": "text"
      },
      "source": [
        "After this data preparation part, I splited data into train and test and then trained a Neural Network model from scratch and fit the model to the dataset for prediction. Since the target variable is binary(1 and 0), I used \"sigmoid\" activation function in my output layer and \"binary_crossentropy\" for my loss function. \n",
        "\n",
        "Firstly I created 3 hidden layer with 100 nodes and used stochastic gradient descent to determine loss function, however I realized afterwards that, the dataset is too good to be true. In other words by using given predictors, all algorithms can perfectly predict unseen data. So I deleted all hidden layers and kept only one with 20 nodes. And I also added dropout 50% rule to let the algorithm use only half of given nodes  in each iteration. But none of them was enough to make the model simplier. So I added some notes to the result and ended the project."
      ]
    },
    {
      "cell_type": "code",
      "metadata": {
        "id": "zN5q5zAAhvLw",
        "colab_type": "code",
        "colab": {}
      },
      "source": [
        "from keras.models import Sequential\n",
        "from keras.layers import Dense, Dropout, Activation\n",
        "from sklearn.model_selection import train_test_split\n",
        "from keras.layers.normalization import BatchNormalization\n",
        "from sklearn.metrics import confusion_matrix\n"
      ],
      "execution_count": 0,
      "outputs": []
    },
    {
      "cell_type": "code",
      "metadata": {
        "id": "UqcTazR_LUY1",
        "colab_type": "code",
        "colab": {}
      },
      "source": [
        "y = data.iloc[:,-1]"
      ],
      "execution_count": 0,
      "outputs": []
    },
    {
      "cell_type": "code",
      "metadata": {
        "id": "LWm1iy9FMUxn",
        "colab_type": "code",
        "colab": {}
      },
      "source": [
        "X = data.drop([\"y\"], axis=1)"
      ],
      "execution_count": 0,
      "outputs": []
    },
    {
      "cell_type": "code",
      "metadata": {
        "id": "8SSzCAUQNLMm",
        "colab_type": "code",
        "outputId": "6cb39013-e96f-4e32-968e-dc63098c68bc",
        "colab": {
          "base_uri": "https://localhost:8080/",
          "height": 34
        }
      },
      "source": [
        "X.shape"
      ],
      "execution_count": 60,
      "outputs": [
        {
          "output_type": "execute_result",
          "data": {
            "text/plain": [
              "(41188, 62)"
            ]
          },
          "metadata": {
            "tags": []
          },
          "execution_count": 60
        }
      ]
    },
    {
      "cell_type": "code",
      "metadata": {
        "id": "-zLRMzbgpPej",
        "colab_type": "code",
        "colab": {}
      },
      "source": [
        "X_train, X_test, y_train, y_test = train_test_split(X, y, test_size=0.30)"
      ],
      "execution_count": 0,
      "outputs": []
    },
    {
      "cell_type": "code",
      "metadata": {
        "id": "1_ZEeb-epPlX",
        "colab_type": "code",
        "colab": {}
      },
      "source": [
        "dropout_rate = 0.5\n",
        "model = Sequential()\n",
        "model.add(Dense(20, input_dim=X_train.shape[1], activation='relu', kernel_initializer='random_normal'))\n",
        "model.add(Dropout(dropout_rate))\n",
        "model.add(BatchNormalization())\n",
        "model.add(Dense(1, activation='sigmoid'))\n",
        "model.summary()\n",
        "\n"
      ],
      "execution_count": 0,
      "outputs": []
    },
    {
      "cell_type": "code",
      "metadata": {
        "id": "Ry5iPiwNpPon",
        "colab_type": "code",
        "colab": {}
      },
      "source": [
        "model.compile(loss='binary_crossentropy', optimizer='adam', metrics=['accuracy'])"
      ],
      "execution_count": 0,
      "outputs": []
    },
    {
      "cell_type": "code",
      "metadata": {
        "id": "6gaOyuppKRZ3",
        "colab_type": "code",
        "colab": {
          "base_uri": "https://localhost:8080/",
          "height": 390
        },
        "outputId": "26a28de7-4809-40fc-ec3d-37e682c747f2"
      },
      "source": [
        "model.fit(\n",
        "    X_train,                     \n",
        "    y_train,                      \n",
        "    epochs= 10,              \n",
        "    batch_size= 10\n",
        ")"
      ],
      "execution_count": 79,
      "outputs": [
        {
          "output_type": "stream",
          "text": [
            "Epoch 1/10\n",
            "28831/28831 [==============================] - 5s 179us/step - loss: 0.0015 - acc: 0.9997\n",
            "Epoch 2/10\n",
            "28831/28831 [==============================] - 5s 175us/step - loss: 0.0011 - acc: 0.9998\n",
            "Epoch 3/10\n",
            "28831/28831 [==============================] - 5s 181us/step - loss: 0.0012 - acc: 0.9998\n",
            "Epoch 4/10\n",
            "28831/28831 [==============================] - 5s 171us/step - loss: 0.0020 - acc: 0.9997\n",
            "Epoch 5/10\n",
            "28831/28831 [==============================] - 5s 169us/step - loss: 0.0022 - acc: 0.9995\n",
            "Epoch 6/10\n",
            "28831/28831 [==============================] - 5s 170us/step - loss: 0.0025 - acc: 0.9997\n",
            "Epoch 7/10\n",
            "28831/28831 [==============================] - 5s 169us/step - loss: 0.0023 - acc: 0.9996\n",
            "Epoch 8/10\n",
            "28831/28831 [==============================] - 5s 170us/step - loss: 0.0022 - acc: 0.9996\n",
            "Epoch 9/10\n",
            "28831/28831 [==============================] - 5s 168us/step - loss: 0.0024 - acc: 0.9994\n",
            "Epoch 10/10\n",
            "28831/28831 [==============================] - 5s 168us/step - loss: 0.0027 - acc: 0.9995\n"
          ],
          "name": "stdout"
        },
        {
          "output_type": "execute_result",
          "data": {
            "text/plain": [
              "<keras.callbacks.History at 0x7f8f78465ac8>"
            ]
          },
          "metadata": {
            "tags": []
          },
          "execution_count": 79
        }
      ]
    },
    {
      "cell_type": "code",
      "metadata": {
        "id": "xbnvpaRUKRUL",
        "colab_type": "code",
        "outputId": "49473026-1e00-4479-c050-934dbddceee2",
        "colab": {
          "base_uri": "https://localhost:8080/",
          "height": 52
        }
      },
      "source": [
        "model.evaluate(X_train, y_train)"
      ],
      "execution_count": 80,
      "outputs": [
        {
          "output_type": "stream",
          "text": [
            "28831/28831 [==============================] - 1s 27us/step\n"
          ],
          "name": "stdout"
        },
        {
          "output_type": "execute_result",
          "data": {
            "text/plain": [
              "[2.3964251876209654e-06, 1.0]"
            ]
          },
          "metadata": {
            "tags": []
          },
          "execution_count": 80
        }
      ]
    },
    {
      "cell_type": "code",
      "metadata": {
        "id": "dFAzujJRXmZh",
        "colab_type": "code",
        "colab": {}
      },
      "source": [
        "y_pred=model.predict(X_test)\n",
        "y_pred =(y_pred>0.5)"
      ],
      "execution_count": 0,
      "outputs": []
    },
    {
      "cell_type": "code",
      "metadata": {
        "id": "wKRu0UaMXmiA",
        "colab_type": "code",
        "outputId": "c625beaf-6a9a-4530-8271-256ac29e1c54",
        "colab": {
          "base_uri": "https://localhost:8080/",
          "height": 52
        }
      },
      "source": [
        "cm = confusion_matrix(y_test, y_pred)\n",
        "print(cm)"
      ],
      "execution_count": 82,
      "outputs": [
        {
          "output_type": "stream",
          "text": [
            "[[11937     0]\n",
            " [    0   420]]\n"
          ],
          "name": "stdout"
        }
      ]
    },
    {
      "cell_type": "markdown",
      "metadata": {
        "id": "qTtrYRcxkZqE",
        "colab_type": "text"
      },
      "source": [
        "After this result, I tried to add dropout method, keep only one hidden layer and delete the remaining ones created in the first attempt. However it still perfectly predicts test data with 100% accuracy. Since it is unseen data, I could say it is a perfect model, but this won't be a realistic conclusion. \n",
        "\n",
        "Some possible approaches to prevent this overfitting problem might be; \n",
        "- decreasing feature numbers\n",
        "- trying label encoding instead of one hot encoding\n",
        "- decreasing layer node numbers or epoch numbers\n",
        "\n",
        "\n",
        "But I won't going on for now. Because the main purpose of this project is to get hands on experience on Neural Networks.\n",
        "\n",
        "Additionally, I added some classification algorithms to test if features are enough for perfect prediction and the  results were all same with 100% accuracy."
      ]
    },
    {
      "cell_type": "code",
      "metadata": {
        "id": "57m5E94ssh47",
        "colab_type": "code",
        "colab": {}
      },
      "source": [
        "from sklearn.linear_model import LogisticRegression\n",
        "from sklearn import svm"
      ],
      "execution_count": 0,
      "outputs": []
    },
    {
      "cell_type": "code",
      "metadata": {
        "id": "C9mM1edctWsn",
        "colab_type": "code",
        "outputId": "d00dab85-6b2d-4df4-8dec-9d4047a809d4",
        "colab": {
          "base_uri": "https://localhost:8080/",
          "height": 34
        }
      },
      "source": [
        "model_lr = LogisticRegression(random_state=0, solver='lbfgs', multi_class='ovr').fit(X_train, y_train)  \n",
        "pred_lr = model_lr.predict(X_test)  \n",
        "model_lr.score(X_test,y_test)  "
      ],
      "execution_count": 70,
      "outputs": [
        {
          "output_type": "execute_result",
          "data": {
            "text/plain": [
              "1.0"
            ]
          },
          "metadata": {
            "tags": []
          },
          "execution_count": 70
        }
      ]
    },
    {
      "cell_type": "code",
      "metadata": {
        "id": "fvkmOnzPtKgv",
        "colab_type": "code",
        "outputId": "0079c3ea-82d4-4ee8-c738-713827a01020",
        "colab": {
          "base_uri": "https://localhost:8080/",
          "height": 52
        }
      },
      "source": [
        "confusion_matrix(y_test, pred_lr)\n"
      ],
      "execution_count": 71,
      "outputs": [
        {
          "output_type": "execute_result",
          "data": {
            "text/plain": [
              "array([[11937,     0],\n",
              "       [    0,   420]])"
            ]
          },
          "metadata": {
            "tags": []
          },
          "execution_count": 71
        }
      ]
    },
    {
      "cell_type": "code",
      "metadata": {
        "id": "UVbmW5vtt0CV",
        "colab_type": "code",
        "outputId": "7b1ec44d-4327-4984-bada-14ab99b8a91e",
        "colab": {
          "base_uri": "https://localhost:8080/",
          "height": 90
        }
      },
      "source": [
        "model_SVM = svm.SVC()  \n",
        "model_SVM.fit(X_train, y_train)  \n",
        "pred_svm = model_SVM.predict(X_test)  \n",
        "model_SVM.score(X_test,y_test) \n"
      ],
      "execution_count": 72,
      "outputs": [
        {
          "output_type": "stream",
          "text": [
            "/usr/local/lib/python3.6/dist-packages/sklearn/svm/base.py:193: FutureWarning: The default value of gamma will change from 'auto' to 'scale' in version 0.22 to account better for unscaled features. Set gamma explicitly to 'auto' or 'scale' to avoid this warning.\n",
            "  \"avoid this warning.\", FutureWarning)\n"
          ],
          "name": "stderr"
        },
        {
          "output_type": "execute_result",
          "data": {
            "text/plain": [
              "1.0"
            ]
          },
          "metadata": {
            "tags": []
          },
          "execution_count": 72
        }
      ]
    },
    {
      "cell_type": "code",
      "metadata": {
        "id": "Ynj36AV3wx-d",
        "colab_type": "code",
        "outputId": "8f58c796-416c-47e6-82f5-b74cc353bdb6",
        "colab": {
          "base_uri": "https://localhost:8080/",
          "height": 52
        }
      },
      "source": [
        "confusion_matrix(y_test, pred_svm)"
      ],
      "execution_count": 73,
      "outputs": [
        {
          "output_type": "execute_result",
          "data": {
            "text/plain": [
              "array([[11937,     0],\n",
              "       [    0,   420]])"
            ]
          },
          "metadata": {
            "tags": []
          },
          "execution_count": 73
        }
      ]
    },
    {
      "cell_type": "code",
      "metadata": {
        "id": "w2diyziIw3fJ",
        "colab_type": "code",
        "colab": {}
      },
      "source": [
        ""
      ],
      "execution_count": 0,
      "outputs": []
    }
  ]
}